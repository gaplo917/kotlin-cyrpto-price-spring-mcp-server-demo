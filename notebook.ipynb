{
 "cells": [
  {
   "metadata": {},
   "cell_type": "markdown",
   "source": [
    "# Kotlin Crypto Price Spring MCP Server Demo\n",
    "\n",
    "A demonstration project showcasing the integration of Spring AI's Model Context Protocol (MCP) server with a cryptocurrency price API service. This project allows AI models to retrieve real-time cryptocurrency information through a standardized interface.\n",
    "\n",
    "## Overview\n",
    "\n",
    "This project implements a Spring Boot application that serves as an MCP server, providing tools for AI models to:\n",
    "\n",
    "1. Search for cryptocurrencies by name or symbol\n",
    "2. Retrieve market data for specific cryptocurrencies\n",
    "\n",
    "The application uses the CoinGecko API to fetch real-time cryptocurrency data.\n",
    "\n",
    "### Run the Spring Boot Server"
   ],
   "id": "79ef45ba64bf40a3"
  },
  {
   "cell_type": "code",
   "id": "initial_id",
   "metadata": {
    "collapsed": true,
    "ExecuteTime": {
     "end_time": "2025-04-11T08:01:41.418434Z",
     "start_time": "2025-04-11T07:58:29.204919Z"
    }
   },
   "source": [
    "%%bash\n",
    "./gradlew bootRun"
   ],
   "outputs": [
    {
     "name": "stdout",
     "output_type": "stream",
     "text": [
      "Starting a Gradle Daemon (subsequent builds will be faster)\n",
      "> Task :checkKotlinGradlePluginConfigurationErrors\n",
      "> Task :processResources\n",
      "> Task :compileKotlin\n",
      "> Task :compileJava NO-SOURCE\n",
      "> Task :classes\n",
      "> Task :resolveMainClassName\n",
      "\n",
      "> Task :bootRun\n",
      "2025-04-11T15:58:37.671+08:00  INFO 3318 --- [kotlin-cyrpto-price-spring-mcp-server-demo] [           main] o.g.m.McpServerCoinPriceApplicationKt    : Starting McpServerCoinPriceApplicationKt using Java 17.0.4.1 with PID 3318 (/Users/gaplo917/IdeaProjects/kotlin-cyrpto-price-spring-mcp-server-demo/build/classes/kotlin/main started by gaplo917 in /Users/gaplo917/IdeaProjects/kotlin-cyrpto-price-spring-mcp-server-demo)\n",
      "2025-04-11T15:58:37.672+08:00  INFO 3318 --- [kotlin-cyrpto-price-spring-mcp-server-demo] [           main] o.g.m.McpServerCoinPriceApplicationKt    : No active profile set, falling back to 1 default profile: \"default\"\n",
      "2025-04-11T15:58:37.991+08:00  INFO 3318 --- [kotlin-cyrpto-price-spring-mcp-server-demo] [           main] o.s.b.w.embedded.tomcat.TomcatWebServer  : Tomcat initialized with port 3001 (http)\n",
      "2025-04-11T15:58:37.997+08:00  INFO 3318 --- [kotlin-cyrpto-price-spring-mcp-server-demo] [           main] o.apache.catalina.core.StandardService   : Starting service [Tomcat]\n",
      "2025-04-11T15:58:37.997+08:00  INFO 3318 --- [kotlin-cyrpto-price-spring-mcp-server-demo] [           main] o.apache.catalina.core.StandardEngine    : Starting Servlet engine: [Apache Tomcat/10.1.39]\n",
      "2025-04-11T15:58:38.021+08:00  INFO 3318 --- [kotlin-cyrpto-price-spring-mcp-server-demo] [           main] o.a.c.c.C.[Tomcat].[localhost].[/]       : Initializing Spring embedded WebApplicationContext\n",
      "2025-04-11T15:58:38.021+08:00  INFO 3318 --- [kotlin-cyrpto-price-spring-mcp-server-demo] [           main] w.s.c.ServletWebServerApplicationContext : Root WebApplicationContext: initialization completed in 333 ms\n",
      "2025-04-11T15:58:38.196+08:00  INFO 3318 --- [kotlin-cyrpto-price-spring-mcp-server-demo] [           main] o.s.a.a.m.s.MpcServerAutoConfiguration   : Registered tools2 notification: true\n",
      "2025-04-11T15:58:38.227+08:00  INFO 3318 --- [kotlin-cyrpto-price-spring-mcp-server-demo] [           main] o.s.b.w.embedded.tomcat.TomcatWebServer  : Tomcat started on port 3001 (http) with context path '/'\n",
      "2025-04-11T15:58:38.230+08:00  INFO 3318 --- [kotlin-cyrpto-price-spring-mcp-server-demo] [           main] o.g.m.McpServerCoinPriceApplicationKt    : Started McpServerCoinPriceApplicationKt in 0.695 seconds (process running for 0.815)\n",
      "Error while terminating subprocess (pid=3070): \n"
     ]
    }
   ],
   "execution_count": 1
  }
 ],
 "metadata": {
  "kernelspec": {
   "display_name": "Python 3",
   "language": "python",
   "name": "python3"
  },
  "language_info": {
   "codemirror_mode": {
    "name": "ipython",
    "version": 2
   },
   "file_extension": ".py",
   "mimetype": "text/x-python",
   "name": "python",
   "nbconvert_exporter": "python",
   "pygments_lexer": "ipython2",
   "version": "2.7.6"
  }
 },
 "nbformat": 4,
 "nbformat_minor": 5
}
